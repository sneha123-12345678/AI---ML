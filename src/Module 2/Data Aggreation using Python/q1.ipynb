{
 "cells": [
  {
   "cell_type": "markdown",
   "metadata": {},
   "source": [
    "Title: Introduction to Data Aggregation\n",
    "<br>\n",
    "Objective: Understand the basic concepts of data aggregation and practice simple aggregation methods."
   ]
  },
  {
   "cell_type": "markdown",
   "metadata": {},
   "source": [
    "Task 1: Calculating Sum\n",
    "<br>\n",
    "Task: Use a numerical dataset containing columns like 'sales', 'profit', and 'quantity'.\n",
    "Calculate the total sales for the dataset.\n",
    "<br>\n",
    "Steps:<br>\n",
    "1. Load the dataset using pandas.<br>\n",
    "2. Apply the .sum() function on the 'sales' column.<br>\n",
    "3. Verify the result by manually summing a portion of the 'sales' values."
   ]
  },
  {
   "cell_type": "code",
   "execution_count": 5,
   "metadata": {},
   "outputs": [
    {
     "name": "stdout",
     "output_type": "stream",
     "text": [
      "Total Sales (using .sum()): 1621.24\n",
      "Manual Sum (first 3 values): 1001.25 → values: [250.5, 300.0, 450.75]\n"
     ]
    }
   ],
   "source": [
    "# Write your code from here\n",
    "import pandas as pd\n",
    "\n",
    "# Step 1: Load or create a sample dataset\n",
    "data = {\n",
    "    'sales': [250.5, 300.0, 450.75, 120.0, 499.99],\n",
    "    'profit': [50.5, 80.0, 100.75, 20.0, 150.0],\n",
    "    'quantity': [3, 5, 7, 2, 9]\n",
    "}\n",
    "df = pd.DataFrame(data)\n",
    "\n",
    "            # Step 2: Apply .sum() to 'sales' column\n",
    "total_sales = df['sales'].sum()\n",
    "print(f\"Total Sales (using .sum()): {total_sales}\")\n",
    "\n",
    "            # Step 3: Verify by manually summing first three sales values\n",
    "manual_sum = df['sales'].iloc[:3].sum()\n",
    "print(f\"Manual Sum (first 3 values): {manual_sum} → values: {df['sales'].iloc[:3].tolist()}\")\n"
   ]
  },
  {
   "cell_type": "markdown",
   "metadata": {},
   "source": [
    "Task 2: Calculating Mean<br>\n",
    "\n",
    "Task: Calculate the average quantity sold.<br>\n",
    "Steps:<br>\n",
    "4. Load the dataset.<br>\n",
    "5. Use the .mean() function on the 'quantity' column to find the average.<br>\n",
    "6. Double-check by calculating the mean manually on a small selection."
   ]
  },
  {
   "cell_type": "code",
   "execution_count": 6,
   "metadata": {},
   "outputs": [
    {
     "name": "stdout",
     "output_type": "stream",
     "text": [
      "Average Quantity Sold (using .mean()): 5.20\n",
      "Manual Average of First 3 Quantities: 5.00 → values: [3, 5, 7]\n"
     ]
    }
   ],
   "source": [
    "# Write your code from here\n",
    "import pandas as pd\n",
    "\n",
    "# Step 4: Load or create the dataset\n",
    "data = {\n",
    "    'sales': [250.5, 300.0, 450.75, 120.0, 499.99],\n",
    "    'profit': [50.5, 80.0, 100.75, 20.0, 150.0],\n",
    "    'quantity': [3, 5, 7, 2, 9]\n",
    "}\n",
    "df = pd.DataFrame(data)\n",
    "\n",
    "            # Step 5: Calculate the average using .mean()\n",
    "average_quantity = df['quantity'].mean()\n",
    "print(f\"Average Quantity Sold (using .mean()): {average_quantity:.2f}\")\n",
    "\n",
    "            # Step 6: Manually calculate the mean of a few entries\n",
    "manual_quantities = df['quantity'].iloc[:3]  # first 3 values: 3, 5, 7\n",
    "manual_average = manual_quantities.sum() / len(manual_quantities)\n",
    "print(f\"Manual Average of First 3 Quantities: {manual_average:.2f} → values: {manual_quantities.tolist()}\")\n"
   ]
  }
 ],
 "metadata": {
  "kernelspec": {
   "display_name": "Python 3",
   "language": "python",
   "name": "python3"
  },
  "language_info": {
   "codemirror_mode": {
    "name": "ipython",
    "version": 3
   },
   "file_extension": ".py",
   "mimetype": "text/x-python",
   "name": "python",
   "nbconvert_exporter": "python",
   "pygments_lexer": "ipython3",
   "version": "3.10.12"
  }
 },
 "nbformat": 4,
 "nbformat_minor": 2
}
