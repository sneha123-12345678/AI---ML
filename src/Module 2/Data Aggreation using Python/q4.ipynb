{
 "cells": [
  {
   "cell_type": "markdown",
   "metadata": {},
   "source": [
    "Title: Hands-on: Real-World Data Aggregation<br>\n",
    "Objective: Apply learned concepts to real-world data scenarios"
   ]
  },
  {
   "cell_type": "markdown",
   "metadata": {},
   "source": [
    "Task 1: Analyzing Sales by Region<br>\n",
    "\n",
    "Task: Use a real-world sales dataset to calculate yearly sales trends by region.<br>\n",
    " Steps:<br>\n",
    " 28. Acquire a dataset containing columns such as 'date', 'region', and 'sales'.<br>\n",
    " 29. Extract the year from the 'date' column.<br>\n",
    " 30. Group by 'year' and 'region' to apply the sum aggregation on 'sales'"
   ]
  },
  {
   "cell_type": "code",
   "execution_count": 1,
   "metadata": {},
   "outputs": [
    {
     "name": "stdout",
     "output_type": "stream",
     "text": [
      "   year region  sales\n",
      "0  2021  North   1000\n",
      "1  2021  South   1500\n",
      "2  2022  North   2000\n",
      "3  2022  South   2500\n",
      "4  2023  North   3000\n"
     ]
    }
   ],
   "source": [
    "# Write your code from here\n",
    "import pandas as pd\n",
    "\n",
    "# Sample dataset\n",
    "data = {\n",
    "    'date': ['2021-01-15', '2021-02-20', '2022-03-25', '2022-04-30', '2023-05-10'],\n",
    "    'region': ['North', 'South', 'North', 'South', 'North'],\n",
    "    'sales': [1000, 1500, 2000, 2500, 3000]\n",
    "}\n",
    "\n",
    "            # Create DataFrame\n",
    "df = pd.DataFrame(data)\n",
    "\n",
    "            # Convert 'date' to datetime format\n",
    "df['date'] = pd.to_datetime(df['date'])\n",
    "\n",
    "            # Extract the year from the 'date' column\n",
    "df['year'] = df['date'].dt.year\n",
    "\n",
    "            # Group by 'year' and 'region', and calculate the sum of 'sales'\n",
    "sales_trends = df.groupby(['year', 'region'])['sales'].sum().reset_index()\n",
    "\n",
    "            # Display the result\n",
    "print(sales_trends)\n"
   ]
  },
  {
   "cell_type": "markdown",
   "metadata": {},
   "source": [
    "Task 2: Customer Purchase Patterns<br>\n",
    "\n",
    "Task: Find the top 5 customers by the total amount spent using a purchases dataset.<br>\n",
    " Steps:<br>\n",
    " 31. Load a dataset with 'customer_id' and 'amount_spent'.<br>\n",
    " 32. Group by 'customer_id'.<br>\n",
    " 33. Use .sum() on 'amount_spent' and sort values"
   ]
  },
  {
   "cell_type": "code",
   "execution_count": 2,
   "metadata": {},
   "outputs": [
    {
     "name": "stdout",
     "output_type": "stream",
     "text": [
      "customer_id\n",
      "2    600\n",
      "5    500\n",
      "3    400\n",
      "4    400\n",
      "1    300\n",
      "Name: amount_spent, dtype: int64\n"
     ]
    }
   ],
   "source": [
    "# Write your code from here\n",
    "import pandas as pd\n",
    "\n",
    "# Sample dataset\n",
    "data = {\n",
    "    'customer_id': [1, 2, 3, 1, 2, 4, 5, 3, 2, 1],\n",
    "    'amount_spent': [100, 200, 150, 50, 300, 400, 500, 250, 100, 150]\n",
    "}\n",
    "\n",
    "        # Create DataFrame\n",
    "df = pd.DataFrame(data)\n",
    "\n",
    "        # Group by 'customer_id' and calculate total spending\n",
    "total_spent = df.groupby('customer_id')['amount_spent'].sum()\n",
    "\n",
    "        # Sort in descending order and select top 5 customers\n",
    "top_5_customers = total_spent.sort_values(ascending=False).head(5)\n",
    "\n",
    "        # Display the result\n",
    "print(top_5_customers)\n"
   ]
  },
  {
   "cell_type": "markdown",
   "metadata": {},
   "source": [
    " Task 3: Seasonality Analysis<br>\n",
    "\n",
    " Task: Determine which months have the highest and lowest sales for a retail dataset.<br>\n",
    " Steps:<br>\n",
    " 34. Use a dataset with 'transaction_date' and 'sales'.<br>\n",
    " 35. Extract the month from 'transaction_date'.<br>\n",
    " 36. Group by 'month' and sum 'sales', then sort to find extremes"
   ]
  },
  {
   "cell_type": "code",
   "execution_count": 3,
   "metadata": {},
   "outputs": [
    {
     "name": "stdout",
     "output_type": "stream",
     "text": [
      "month\n",
      "February    3300\n",
      "January     2200\n",
      "March       2000\n",
      "Name: sales, dtype: int64\n"
     ]
    }
   ],
   "source": [
    "# Write your code from here\n",
    "import pandas as pd\n",
    "\n",
    "# Sample dataset\n",
    "data = {\n",
    "    'transaction_date': ['2023-01-15', '2023-02-20', '2023-03-25', '2023-01-30', '2023-02-15'],\n",
    "    'sales': [1000, 1500, 2000, 1200, 1800]\n",
    "}\n",
    "\n",
    "        # Create DataFrame\n",
    "df = pd.DataFrame(data)\n",
    "\n",
    "        # Convert 'transaction_date' to datetime format\n",
    "df['transaction_date'] = pd.to_datetime(df['transaction_date'])\n",
    "\n",
    "        # Extract the month from 'transaction_date'\n",
    "df['month'] = df['transaction_date'].dt.month_name()\n",
    "\n",
    "        # Group by 'month' and calculate total sales\n",
    "monthly_sales = df.groupby('month')['sales'].sum()\n",
    "\n",
    "        # Sort the results to find the months with highest and lowest sales\n",
    "sorted_sales = monthly_sales.sort_values(ascending=False)\n",
    "\n",
    "        # Display the sorted results\n",
    "print(sorted_sales)\n"
   ]
  }
 ],
 "metadata": {
  "kernelspec": {
   "display_name": "Python 3",
   "language": "python",
   "name": "python3"
  },
  "language_info": {
   "codemirror_mode": {
    "name": "ipython",
    "version": 3
   },
   "file_extension": ".py",
   "mimetype": "text/x-python",
   "name": "python",
   "nbconvert_exporter": "python",
   "pygments_lexer": "ipython3",
   "version": "3.10.12"
  }
 },
 "nbformat": 4,
 "nbformat_minor": 2
}
