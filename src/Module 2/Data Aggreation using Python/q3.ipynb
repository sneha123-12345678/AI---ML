{
 "cells": [
  {
   "cell_type": "markdown",
   "metadata": {},
   "source": [
    "Pivot Tables & Advanced Aggregations<br>\n",
    "Objective: Utilize pivot tables for complex aggregation tasks."
   ]
  },
  {
   "cell_type": "markdown",
   "metadata": {},
   "source": [
    "Task 1: Creating a Basic Pivot Table<br>\n",
    "Task: Create a pivot table that shows the total sales for each 'category' across 'years'.<br>\n",
    "Steps:<br>\n",
    "19. Use pandas pivot_table() function.<br>\n",
    "20. Set index='year' and columns='category' .<br>\n",
    "21. Define the value parameter as 'sales' and aggregation function as np.sum ."
   ]
  },
  {
   "cell_type": "code",
   "execution_count": 1,
   "metadata": {},
   "outputs": [
    {
     "name": "stdout",
     "output_type": "stream",
     "text": [
      "category    A    B\n",
      "year              \n",
      "2021      100  150\n",
      "2022      200  250\n",
      "2023      300  350\n"
     ]
    },
    {
     "name": "stderr",
     "output_type": "stream",
     "text": [
      "/tmp/ipykernel_10112/3366385712.py:16: FutureWarning: The provided callable <function sum at 0x7ff2fb52f880> is currently using DataFrameGroupBy.sum. In a future version of pandas, the provided callable will be used directly. To keep current behavior pass the string \"sum\" instead.\n",
      "  pivot = pd.pivot_table(df, values='sales', index='year', columns='category', aggfunc=np.sum, fill_value=0)\n"
     ]
    }
   ],
   "source": [
    "# Write your code from here\n",
    "import pandas as pd\n",
    "import numpy as np\n",
    "\n",
    "# Sample dataset\n",
    "data = {\n",
    "    'year': [2021, 2021, 2022, 2022, 2023, 2023],\n",
    "    'category': ['A', 'B', 'A', 'B', 'A', 'B'],\n",
    "    'sales': [100, 150, 200, 250, 300, 350]\n",
    "}\n",
    "\n",
    "            # Create DataFrame\n",
    "df = pd.DataFrame(data)\n",
    "\n",
    "            # Create pivot table\n",
    "pivot = pd.pivot_table(df, values='sales', index='year', columns='category', aggfunc=np.sum, fill_value=0)\n",
    "\n",
    "            # Display the result\n",
    "print(pivot)\n"
   ]
  },
  {
   "cell_type": "markdown",
   "metadata": {},
   "source": [
    "Task 2: Pivot Table with Multiple Aggregations<br>\n",
    "\n",
    "Task: Generate a pivot table with both mean and max of 'profit' for 'category' each month.<br>\n",
    "Steps:<br>\n",
    "22. Create a pivot table.<br>\n",
    "23. Use aggfunc=['mean', 'max'] .<br>\n",
    "24. Analyze the pivot table output."
   ]
  },
  {
   "cell_type": "code",
   "execution_count": 2,
   "metadata": {},
   "outputs": [
    {
     "name": "stdout",
     "output_type": "stream",
     "text": [
      "            mean           max      \n",
      "category       A       B     A     B\n",
      "month                               \n",
      "Feb       2000.0  2500.0  2000  2500\n",
      "Jan       1000.0  1500.0  1000  1500\n",
      "Mar       3000.0  3500.0  3000  3500\n"
     ]
    }
   ],
   "source": [
    "# Write your code from here\n",
    "import pandas as pd\n",
    "import numpy as np\n",
    "\n",
    "# Sample dataset\n",
    "data = {\n",
    "    'month': ['Jan', 'Jan', 'Feb', 'Feb', 'Mar', 'Mar'],\n",
    "    'category': ['A', 'B', 'A', 'B', 'A', 'B'],\n",
    "    'profit': [1000, 1500, 2000, 2500, 3000, 3500]\n",
    "}\n",
    "\n",
    "            # Create DataFrame\n",
    "df = pd.DataFrame(data)\n",
    "\n",
    "            # Create pivot table\n",
    "pivot = pd.pivot_table(df, values='profit', index='month', columns='category', aggfunc=['mean', 'max'], fill_value=0)\n",
    "\n",
    "            # Display the result\n",
    "print(pivot)\n"
   ]
  },
  {
   "cell_type": "markdown",
   "metadata": {},
   "source": [
    "Task 3: Advanced Pivot Table with Margins<br>\n",
    "\n",
    "Task: Create a pivot table that includes subtotals for each 'region' and 'category'.<br>\n",
    "Steps:<br>\n",
    "25. Use pivot_table() with margins=True .<br>\n",
    "26. Set the index and columns appropriately.<br>\n",
    "27. Validate subtotal correctness by summing manually."
   ]
  },
  {
   "cell_type": "code",
   "execution_count": 3,
   "metadata": {},
   "outputs": [
    {
     "name": "stdout",
     "output_type": "stream",
     "text": [
      "category    A    B  Total\n",
      "region                   \n",
      "East        0  200    200\n",
      "North     220    0    220\n",
      "South     150  180    330\n",
      "West        0  130    130\n",
      "Total     370  510    880\n"
     ]
    }
   ],
   "source": [
    "# Write your code from here\n",
    "import pandas as pd\n",
    "\n",
    "# Sample dataset\n",
    "data = {\n",
    "    'region': ['North', 'South', 'East', 'West', 'North', 'South'],\n",
    "    'category': ['A', 'A', 'B', 'B', 'A', 'B'],\n",
    "    'sales': [100, 150, 200, 130, 120, 180]\n",
    "}\n",
    "\n",
    "            # Create DataFrame\n",
    "df = pd.DataFrame(data)\n",
    "\n",
    "            # Create pivot table with subtotals\n",
    "pivot = pd.pivot_table(df, values='sales', index='region', columns='category', aggfunc='sum', margins=True, margins_name='Total', fill_value=0)\n",
    "\n",
    "            # Display the result\n",
    "print(pivot)\n"
   ]
  }
 ],
 "metadata": {
  "kernelspec": {
   "display_name": "Python 3",
   "language": "python",
   "name": "python3"
  },
  "language_info": {
   "codemirror_mode": {
    "name": "ipython",
    "version": 3
   },
   "file_extension": ".py",
   "mimetype": "text/x-python",
   "name": "python",
   "nbconvert_exporter": "python",
   "pygments_lexer": "ipython3",
   "version": "3.10.12"
  }
 },
 "nbformat": 4,
 "nbformat_minor": 2
}
