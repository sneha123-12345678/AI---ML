{
 "cells": [
  {
   "cell_type": "markdown",
   "metadata": {},
   "source": [
    "Title: Grouping & Aggregating Data using Pandas<br>\n",
    "Objective: Learn how to group data and perform aggregations on these groups."
   ]
  },
  {
   "cell_type": "markdown",
   "metadata": {},
   "source": [
    "Task 1: Grouping by a Single Column<br>\n",
    "\n",
    "Task: Group the dataset by 'region' and calculate total sales per region.<br>\n",
    "Steps:<br>\n",
    "10. Load the dataset.<br>\n",
    "11. Use groupby('region') on the DataFrame.<br>\n",
    "12. Apply .sum() to the 'sales' column."
   ]
  },
  {
   "cell_type": "code",
   "execution_count": 10,
   "metadata": {},
   "outputs": [
    {
     "name": "stdout",
     "output_type": "stream",
     "text": [
      "  region  sales\n",
      "0   East    300\n",
      "1  North    650\n",
      "2  South    500\n",
      "3   West    750\n"
     ]
    }
   ],
   "source": [
    "import pandas as pd\n",
    "\n",
    "# Sample dataset\n",
    "data = {\n",
    "    'region': ['North', 'South', 'East', 'West', 'North', 'South', 'East', 'West'],\n",
    "    'sales': [250, 150, 200, 300, 400, 350, 100, 450]\n",
    "}\n",
    "\n",
    "        # Load the data into a pandas DataFrame\n",
    "df = pd.DataFrame(data)\n",
    "\n",
    "        # Group by 'region' and calculate total sales for each region\n",
    "total_sales = df.groupby('region')['sales'].sum().reset_index()\n",
    "\n",
    "        # Display the result\n",
    "print(total_sales)\n",
    "\n",
    "\n",
    "\n",
    "\n",
    "\n",
    "\n",
    "\n",
    "\n",
    "\n",
    "\n",
    "\n",
    "  \n",
    "\n",
    "\n",
    " \n",
    "\n",
    " \n",
    "\n",
    "\n",
    "\n",
    "     \n",
    "           \n",
    "\n",
    "\n",
    "      \n",
    "\n",
    "\n",
    "        \n",
    "      \n",
    "\n",
    "\n",
    "\n",
    "\n"
   ]
  },
  {
   "cell_type": "markdown",
   "metadata": {},
   "source": [
    "Task 2: Grouping by Multiple Columns<br>\n",
    "\n",
    "Task: Group the dataset by 'region' and 'category', then find the average sales.<br>\n",
    "Steps:<br>\n",
    "13. Group by ['region', 'category'].<br>\n",
    "14. Use .mean() on the 'sales' column.<br>\n",
    "15. Examine the resulting DataFrame structure."
   ]
  },
  {
   "cell_type": "code",
   "execution_count": 11,
   "metadata": {},
   "outputs": [
    {
     "name": "stdout",
     "output_type": "stream",
     "text": [
      "  region category  sales\n",
      "0   East        A  130.0\n",
      "1   East        B  150.0\n",
      "2  North        A  110.0\n",
      "3  South        A  200.0\n",
      "4  South        B  220.0\n",
      "5   West        B  245.0\n"
     ]
    }
   ],
   "source": [
    "import pandas as pd\n",
    "\n",
    "# Sample dataset\n",
    "data = {\n",
    "    'region': ['North', 'South', 'East', 'West', 'North', 'South', 'East', 'West'],\n",
    "    'category': ['A', 'A', 'B', 'B', 'A', 'B', 'A', 'B'],\n",
    "    'sales': [100, 200, 150, 250, 120, 220, 130, 240]\n",
    "}\n",
    "\n",
    "            # Load the data into a pandas DataFrame\n",
    "df = pd.DataFrame(data)\n",
    "\n",
    "            # Group by 'region' and 'category', then calculate the average sales\n",
    "avg_sales = df.groupby(['region', 'category'])['sales'].mean().reset_index()\n",
    "\n",
    "            # Display the result\n",
    "print(avg_sales)\n"
   ]
  },
  {
   "cell_type": "markdown",
   "metadata": {},
   "source": [
    "Task 3: Aggregating Multiple Functions<br>\n",
    "\n",
    "Task: Group data by 'category' and apply multiple aggregation functions (sum and count) on 'quantity'.<br>\n",
    "Steps:<br>\n",
    "16. Group by 'category'.<br>\n",
    "17. Use .agg(['sum', 'count']) on 'quantity'.<br>\n",
    "18. Analyze the result to understand how multiple aggregations work."
   ]
  },
  {
   "cell_type": "code",
   "execution_count": 12,
   "metadata": {},
   "outputs": [
    {
     "name": "stdout",
     "output_type": "stream",
     "text": [
      "          sum  count\n",
      "category            \n",
      "A          55      3\n",
      "B          80      3\n"
     ]
    }
   ],
   "source": [
    "# Write your code from here\n",
    "import pandas as pd\n",
    "\n",
    "# Sample dataset\n",
    "data = {\n",
    "    'category': ['A', 'A', 'B', 'B', 'A', 'B'],\n",
    "    'quantity': [10, 15, 20, 25, 30, 35]\n",
    "}\n",
    "\n",
    "        # Create DataFrame\n",
    "df = pd.DataFrame(data)\n",
    "\n",
    "        # Group by 'category' and apply 'sum' and 'count' on 'quantity'\n",
    "aggregated = df.groupby('category')['quantity'].agg(['sum', 'count'])\n",
    "\n",
    "        # Display the result\n",
    "print(aggregated)\n"
   ]
  }
 ],
 "metadata": {
  "kernelspec": {
   "display_name": "Python 3",
   "language": "python",
   "name": "python3"
  },
  "language_info": {
   "codemirror_mode": {
    "name": "ipython",
    "version": 3
   },
   "file_extension": ".py",
   "mimetype": "text/x-python",
   "name": "python",
   "nbconvert_exporter": "python",
   "pygments_lexer": "ipython3",
   "version": "3.10.12"
  }
 },
 "nbformat": 4,
 "nbformat_minor": 2
}
